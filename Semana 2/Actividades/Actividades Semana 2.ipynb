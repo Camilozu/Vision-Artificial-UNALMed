{
 "cells": [
  {
   "cell_type": "markdown",
   "metadata": {},
   "source": [
    "# Ejercicios Semana 2 Visión Artificial"
   ]
  },
  {
   "cell_type": "markdown",
   "metadata": {},
   "source": [
    "A continuación se presentan los ejercicios planteados con el objetivo de asimilar los conceptos vistos en la clase."
   ]
  },
  {
   "cell_type": "markdown",
   "metadata": {},
   "source": [
    "## Actividad 1."
   ]
  },
  {
   "cell_type": "markdown",
   "metadata": {},
   "source": [
    "Lea la imagen \"pato.jpg\" que se encuentra en la carpeta \"res\", utilice la función  <b>io.imread</b> de skimage y la función <b>imread</b> de OpenCv. "
   ]
  },
  {
   "cell_type": "code",
   "execution_count": 1,
   "metadata": {},
   "outputs": [],
   "source": [
    "###Escriba su código aquí###"
   ]
  },
  {
   "cell_type": "markdown",
   "metadata": {},
   "source": [
    "Utilice la función <b>shape</b> de numpy para conocer las dimensiones de ambas imágenes. ¿En qué se diferencian? ¿Puede usted explicar a qué se debe ésto?"
   ]
  },
  {
   "cell_type": "code",
   "execution_count": 2,
   "metadata": {},
   "outputs": [],
   "source": [
    "###Escriba su código aquí###"
   ]
  },
  {
   "cell_type": "markdown",
   "metadata": {},
   "source": []
  },
  {
   "cell_type": "markdown",
   "metadata": {},
   "source": [
    "## Actividad 2."
   ]
  },
  {
   "cell_type": "markdown",
   "metadata": {},
   "source": [
    "Lea la imagen \"pato.jpg\" que se encuentra en la carpeta \"res\", utilice la función de lectura de imágenes de OpenCv para mostrarla en escala de grises. Posteriormente utilice la función <b>shape</b> de numpy."
   ]
  },
  {
   "cell_type": "code",
   "execution_count": 3,
   "metadata": {},
   "outputs": [],
   "source": [
    "###Escriba su código aquí###"
   ]
  },
  {
   "cell_type": "markdown",
   "metadata": {},
   "source": [
    "¿En qué se diferencian las dimensiones de esta imagen, respecto de las anteriores? ¿A qué se debe esta diferencia?"
   ]
  },
  {
   "cell_type": "markdown",
   "metadata": {},
   "source": []
  },
  {
   "cell_type": "markdown",
   "metadata": {},
   "source": [
    "## Actividad 3."
   ]
  },
  {
   "cell_type": "markdown",
   "metadata": {},
   "source": [
    "Lea la imagen \"pato.jpg\" que se encuentra en la carpeta \"res\", utilice el comando \"print()\" y como argumento, utilice la imagen que leyó. ¿Qué obtuvo?"
   ]
  },
  {
   "cell_type": "code",
   "execution_count": null,
   "metadata": {},
   "outputs": [],
   "source": [
    "###Escriba su código aquí###"
   ]
  },
  {
   "cell_type": "markdown",
   "metadata": {},
   "source": []
  },
  {
   "cell_type": "markdown",
   "metadata": {},
   "source": [
    "## Actividad 4."
   ]
  },
  {
   "cell_type": "markdown",
   "metadata": {},
   "source": [
    "Lea la imagen \"pato.jpg\" que se encuentra en la carpeta \"res\", utilice la función de lectura de imágenes de OpenCv y leala en el espacio RGB, ¿Puede acceder a uno, de los 3 canales únicamente? ¿Corresponde ésto a una matriz unidimensional? ¿Coinciden sus dimensiones con la imagen en escala de grises?"
   ]
  },
  {
   "cell_type": "code",
   "execution_count": null,
   "metadata": {},
   "outputs": [],
   "source": [
    "###Escriba su código aquí###"
   ]
  },
  {
   "cell_type": "markdown",
   "metadata": {},
   "source": []
  }
 ],
 "metadata": {
  "kernelspec": {
   "display_name": "Python 3",
   "language": "python",
   "name": "python3"
  },
  "language_info": {
   "codemirror_mode": {
    "name": "ipython",
    "version": 3
   },
   "file_extension": ".py",
   "mimetype": "text/x-python",
   "name": "python",
   "nbconvert_exporter": "python",
   "pygments_lexer": "ipython3",
   "version": "3.7.3"
  }
 },
 "nbformat": 4,
 "nbformat_minor": 2
}
