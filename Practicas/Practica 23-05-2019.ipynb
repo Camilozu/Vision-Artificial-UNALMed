{
 "cells": [
  {
   "cell_type": "markdown",
   "metadata": {},
   "source": [
    "# Practica 1: Adquisición e introducción a los Espacios de Color"
   ]
  },
  {
   "cell_type": "markdown",
   "metadata": {},
   "source": [
    "El objetivo de esta práctica es familiarizar al estudiante con los conceptos y el manejo, de la correcta adquisición de imágenes, los espacios de color y la inferencia de factores diferenciadores entre éstos.\n",
    "\n",
    "<br><b> Materiales: </b></br>\n",
    "<br> Una cámara (celular, profesional, semiprofesional, etc.) </br>\n",
    "<br> Elementos de estudio.</br>\n",
    "<br> Una linterna o una fuente de iluminación diferente al flash o la lámpara del aula de trabajo. </br>"
   ]
  },
  {
   "cell_type": "code",
   "execution_count": null,
   "metadata": {},
   "outputs": [],
   "source": [
    "###Espacio para importar las librerías###\n",
    "\n",
    "#Magic para mostrar imágenes en Jupyter usando matplotlib\n",
    "%matplotlib inline \n",
    "\n",
    "import numpy as np\n",
    "import cv2\n",
    "import matplotlib.pyplot as plt"
   ]
  },
  {
   "cell_type": "markdown",
   "metadata": {},
   "source": [
    "## Actividad 1."
   ]
  },
  {
   "cell_type": "markdown",
   "metadata": {},
   "source": [
    "Realice un proceso de adquisición de la imagen, utilizando como objetivo el/los objetos disponibles. \n",
    "<br> Recuerde que un factor fundamental en la toma de imágenes y su posterior estudio, es el manejo de la luz en la misma. Por lo tanto, debe tomar fotografías bajo las siguientes premisas: </br>\n",
    "\n",
    "<br><b>1.</b></br> El objeto bajo la iluminación del aula, el ambiente \"natural\", <b>con</b> y <b>sin</b> flash.\n",
    "<br><b>2.</b></br> El objeto a contraluz, utilizando como fuente la iluminación del aula.\n",
    "<br><b>3.</b></br> Iluminar el objeto con la fuente de iluminación externa (puede ser la linterna de otro celular), desde distintos ángulos. Realice el proceso de adquisición <b>con</b> y <b>sin</b> flash. Intente una toma a contraluz, pero esta vez la fuente de iluminación es la externa.\n",
    "<br><b>4.</b></br> Sin una fuente de iluminación, lo más oscuro posible, <b>con</b> y <b>sin</b> flash.\n",
    "\n",
    "Utilice OpenCv y matplotlib para leer y mostrar las imágenes respectivamente, en el espacio de color RGB.\n",
    "\n",
    "<b> Recuerde que OpenCv lee las imágenes en BGR, por tanto debe convertirlas a RGB </b>"
   ]
  },
  {
   "cell_type": "code",
   "execution_count": null,
   "metadata": {},
   "outputs": [],
   "source": [
    "###Escriba el código aquí###"
   ]
  },
  {
   "cell_type": "markdown",
   "metadata": {},
   "source": [
    "## Actividad 2."
   ]
  },
  {
   "cell_type": "markdown",
   "metadata": {},
   "source": [
    "Separe y muestre las imágenes en los canales R,G,B del espacio de color RGB. Realice el mismo proceso para el espacio de color LAB, mostrando los canales L,A y B* respectivamente. ¿En qué canal se observa más fácilmente el objeto de estudio? ¿Depende esto de la fotografía que se estudie? Justifique."
   ]
  },
  {
   "cell_type": "code",
   "execution_count": null,
   "metadata": {},
   "outputs": [],
   "source": [
    "###Escriba el código aquí###"
   ]
  },
  {
   "cell_type": "markdown",
   "metadata": {},
   "source": [
    "## Actividad 3."
   ]
  },
  {
   "cell_type": "markdown",
   "metadata": {},
   "source": [
    "Una vez escogida la imagen donde mejor se puede apreciar el objeto, en el canal del espacio de color respectivo, ¿Puede separar usted el objeto del fondo?\n",
    "<br> Genere una segmentación de tipo binario y analice. </br>"
   ]
  },
  {
   "cell_type": "code",
   "execution_count": null,
   "metadata": {},
   "outputs": [],
   "source": [
    "###Escriba el código aquí###"
   ]
  }
 ],
 "metadata": {
  "kernelspec": {
   "display_name": "Python 3",
   "language": "python",
   "name": "python3"
  },
  "language_info": {
   "codemirror_mode": {
    "name": "ipython",
    "version": 3
   },
   "file_extension": ".py",
   "mimetype": "text/x-python",
   "name": "python",
   "nbconvert_exporter": "python",
   "pygments_lexer": "ipython3",
   "version": "3.7.3"
  }
 },
 "nbformat": 4,
 "nbformat_minor": 2
}
