{
 "cells": [
  {
   "cell_type": "markdown",
   "metadata": {},
   "source": [
    "# Actividades de clase, semanas 4, 5 y 6."
   ]
  },
  {
   "cell_type": "markdown",
   "metadata": {},
   "source": [
    "La practica consta de 3 módulos, el objetivo es afianzar los conceptos vistos sobre transformaciones afines de la imagen, transformaciones no lineales e introducir los conceptos de convolución y ruido, encontrarán actividades para los módulos I y II, y una introducción al módulo III, que se extenderá hasta el día martes 25 de junio.\n",
    "\n",
    "## Ayuda: Recuerde descargar el repositorio de GitHub del curso, donde estan los notebooks actualizados e implementaciones en python3.\n",
    "\n",
    "## Aunque el ejercicio explícitamente no lo indique, recuerde que debe dar una breve conclusión de cada uno de los resultados obtenidos al finalizar cada punto."
   ]
  },
  {
   "cell_type": "markdown",
   "metadata": {},
   "source": [
    "# Módulo I\n",
    "\n",
    "## 1.\n",
    "\n",
    "Lea la imagen \"gato.jpg\" que se encuentra en la carpeta \"res\", en escala de grises.\n",
    "\n",
    "A continuación, mediante transformaciones geométricas de reflexión y rotación obtenga lo siguiente:\n",
    "\n",
    "<img src=\"res/transformacion.png\">\n",
    "\n",
    "NOTA: Usted debe presentar dos resultados, uno de ellos aplicando una reflexión directamente, y el otro aplicando una rotación inicialmente."
   ]
  },
  {
   "cell_type": "markdown",
   "metadata": {},
   "source": [
    "## 2.\n",
    "\n",
    "Utilice la imagen obtenida en el primer punto, a continuación, mediante la transformación inclinación, con ix = iy = -0.2, obtenga:\n",
    "\n",
    "<img src = \"res/incli.png\">\n",
    "\n",
    "Ayuda: Recuerde que la matriz afin de inclinación, viene dada por:\n",
    "\n",
    "<img src = \"res/mat.png\">\n",
    "\n",
    "Adicionalmente, recuerde que para aplicar la transformación afín sobre la imagen, puede utilizar la función de OpenCv, \"cv2.warpAffine\""
   ]
  },
  {
   "cell_type": "markdown",
   "metadata": {},
   "source": [
    "## 3.\n",
    "\n",
    "Utilizando la imagen obtenida, en el punto 2, lea la imagen \"mascara2.png\" que se encuentra en la carpeta \"res\", a continuación utilice una operación entre imágenes para obtener la imagen que se muestra a continuación:\n",
    "\n",
    "<img src = \"res/ress.png\">\n",
    "\n",
    "Posteriormente, mediante una operación rotación obtenga:\n",
    "\n",
    "<img src = \"res/rot2.png\">\n",
    "\n",
    "Finalmente, pruebe rotando primero la imagen y posteriormente aplicando la operación. ¿Son los resultados iguales? ¿Qué puede concluir al respecto?"
   ]
  },
  {
   "cell_type": "markdown",
   "metadata": {},
   "source": [
    "# Módulo II\n",
    "\n",
    "## 1.\n",
    "\n",
    "Es posible realizar transformaciones no lineales sobre una imagen, tales como la parábola y la raíz cuadrada mostradas en la clase. De forma análoga implemente un algoritmo donde la transformación no lineal corresponda a una función exponencial. \n",
    "\n",
    "<br><center>$a*exp(bx+c)$ </center></br>\n",
    "\n",
    "Donde a,b y c son constantes.\n",
    "\n",
    "<br> Para realizar este ejercicio, lea la imagen \"calabazas.png\" que se encuentra en la carpeta \"res\" </br>\n",
    "\n",
    "<b> Sugerencia: Utilice los ejemplos de clase como referencia para aplicar una transformación no lineal sobre la imagen, recuerde variar los parámetros a,b y c para obtener resultados distintos y poder concluir. </b>"
   ]
  },
  {
   "cell_type": "markdown",
   "metadata": {},
   "source": [
    "## 2.\n",
    "\n",
    "Lea la imagen \"eiffel.png\" que se encuentra en la carpeta \"res\", implemente la ecualización exponencial y la ecualización de Rayleigh, posteriormente compare las imágenes modificadas y los histogramas obtenidos.\n",
    "\n",
    "<br><b>Ecualización exponencial</b></br>\n",
    "\n",
    "<img src = res/expo.png>\n",
    "\n",
    "<br><b>Ecualización de Rayleigh</b></br>\n",
    "\n",
    "<img src = res/ray.png>\n",
    "\n",
    "Recuerde que $ln(0)$ representa una indeterminación, por lo tanto es sugerible sumar un valor $epsilon$ muy pequeño ($1e-5$ o menor) al argumento del logaritmo natural.\n",
    "\n",
    "<br><b> Sugerencia: Una imagen saturada implica pérdida de información, por lo tanto deben utilizarse parámetros $alpha$ adecuados en cada caso. </b><br>"
   ]
  },
  {
   "cell_type": "markdown",
   "metadata": {},
   "source": [
    "## 3.\n",
    "\n",
    "Lea la imagen \"gatonegro.jpg\" que se encuentra en la carpeta \"res\", a continuación aplique una transformación gamma, donde pueda, variando los parámetros a y gamma, concluir acerca del comportamiento de la imagen con esta transformación aplicada.\n",
    "\n",
    "Recuerde que la transformación gamma viene dada por:\n",
    "\n",
    "<center><h3>$f(x)= ax^\\gamma$</h3></center>\n",
    "\n",
    "<img src=\"res/gamma.png\">\n",
    "\n",
    "¿Qué sucede si 0 < gamma < 1? ¿Qué sucede si gamma > 1? Debe mostrar los resultados obtenidos."
   ]
  },
  {
   "cell_type": "markdown",
   "metadata": {},
   "source": [
    "# Módulo III\n",
    "\n",
    "# 1."
   ]
  },
  {
   "cell_type": "markdown",
   "metadata": {},
   "source": [
    "Cree una imagen artificial utilizando la siguiente matriz:\n",
    "\n",
    "$$I = \\begin{bmatrix}\n",
    "255 & 255 & 0 \\\\\n",
    "255 & 0 & 255 \\\\\n",
    "0 & 255 & 255 \\end{bmatrix}\n",
    "$$\n",
    "\n",
    "Adicionalmente, cree la siguiente máscara:\n",
    "    \n",
    "$$Máscara = \\begin{bmatrix}\n",
    "1/2 & 1/2 & 1/2 \\\\\n",
    "1/2 & 1/2 & 1/2 \\\\\n",
    "1/2 & 1/2 & 1/2 \\end{bmatrix}\n",
    "$$\n",
    "\n",
    "Mediante la operación de convolución, muestre, el resultado de la convolución sobre la posición (1,1) de la matriz.\n",
    "\n",
    "Ayuda: Debería obtener un resultado como el siguiente:\n",
    "\n",
    "<img src= \"res/ayuda.png\">"
   ]
  }
 ],
 "metadata": {
  "kernelspec": {
   "display_name": "Python 3",
   "language": "python",
   "name": "python3"
  },
  "language_info": {
   "codemirror_mode": {
    "name": "ipython",
    "version": 3
   },
   "file_extension": ".py",
   "mimetype": "text/x-python",
   "name": "python",
   "nbconvert_exporter": "python",
   "pygments_lexer": "ipython3",
   "version": "3.7.3"
  }
 },
 "nbformat": 4,
 "nbformat_minor": 2
}
